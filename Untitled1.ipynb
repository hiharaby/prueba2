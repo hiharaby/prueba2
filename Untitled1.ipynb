{
  "nbformat": 4,
  "nbformat_minor": 0,
  "metadata": {
    "colab": {
      "provenance": [],
      "include_colab_link": true
    },
    "kernelspec": {
      "name": "python3",
      "display_name": "Python 3"
    },
    "language_info": {
      "name": "python"
    }
  },
  "cells": [
    {
      "cell_type": "markdown",
      "metadata": {
        "id": "view-in-github",
        "colab_type": "text"
      },
      "source": [
        "<a href=\"https://colab.research.google.com/github/hiharaby/prueba2/blob/main/Untitled1.ipynb\" target=\"_parent\"><img src=\"https://colab.research.google.com/assets/colab-badge.svg\" alt=\"Open In Colab\"/></a>"
      ]
    },
    {
      "cell_type": "code",
      "execution_count": null,
      "metadata": {
        "id": "tf99M1i1ZxjT",
        "colab": {
          "base_uri": "https://localhost:8080/"
        },
        "outputId": "74abc520-6946-4346-a193-7ad2140943ec"
      },
      "outputs": [
        {
          "output_type": "stream",
          "name": "stdout",
          "text": [
            "----- MENÚ -----\n",
            "1. Grabar\n",
            "2. Buscar\n",
            "3. Imprimir certificados\n",
            "4. Eliminar\n",
            "5. Salir\n"
          ]
        }
      ],
      "source": [
        "personas_registradas = []\n",
        "\n",
        "def grabar_persona():\n",
        "    rut = input(\"Ingrese el RUT: \")\n",
        "    nombre = input(\"Ingrese el nombre: \")\n",
        "    edad = int(input(\"Ingrese la edad: \"))\n",
        "    pais_nacimiento = input(\"Ingrese el país de nacimiento: \")\n",
        "    ciudad_nacimiento = input(\"Ingrese la ciudad de nacimiento: \")\n",
        "\n",
        "    persona = [rut, nombre, edad, pais_nacimiento, ciudad_nacimiento]\n",
        "    personas_registradas.append(persona)\n",
        "\n",
        "\n",
        "def buscar_persona():\n",
        "  rut = input(\"Ingrese el RUT de la persona que desea buscar: \")\n",
        "  for persona in personas_registradas:\n",
        "    if persona[0] == rut:\n",
        "      print(\"Informacion:\")\n",
        "      print(\"Rut:\", persona[0])\n",
        "      print(\"Nombre: \", persona[1])\n",
        "      print(\"Edad: \", persona[2])\n",
        "      print(\"Pais de nacimiento: \", persona[3])\n",
        "      print(\"Ciudad de nacimiento: \", persona[4])\n",
        "\n",
        "def menu():\n",
        "  while True:\n",
        "        print(\"----- MENÚ -----\")\n",
        "        print(\"1. Grabar\")\n",
        "        print(\"2. Buscar\")\n",
        "        print(\"3. Imprimir certificados\")\n",
        "        print(\"4. Eliminar\")\n",
        "        print(\"5. Salir\")\n",
        "        opcion = input(\"Seleccione una opción: \")\n",
        "\n",
        "        if opcion == \"1\":\n",
        "            grabar_persona()\n",
        "        elif opcion == \"2\":\n",
        "            buscar_persona()\n",
        "        else:\n",
        "            print(\"Opción inválida. Intente nuevamente.\")\n",
        "\n",
        "menu()\n"
      ]
    }
  ]
}